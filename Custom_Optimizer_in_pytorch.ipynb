{
  "nbformat": 4,
  "nbformat_minor": 0,
  "metadata": {
    "colab": {
      "name": "Custom_Optimizer_in_pytorch.ipynb",
      "provenance": [],
      "collapsed_sections": [],
      "authorship_tag": "ABX9TyNaGDyvLfzR6V+VvBhZZXTD",
      "include_colab_link": true
    },
    "kernelspec": {
      "name": "python3",
      "display_name": "Python 3"
    }
  },
  "cells": [
    {
      "cell_type": "markdown",
      "metadata": {
        "id": "view-in-github",
        "colab_type": "text"
      },
      "source": [
        "<a href=\"https://colab.research.google.com/github/puneetsingla17/Pytorch-NLP/blob/master/Custom_Optimizer_in_pytorch.ipynb\" target=\"_parent\"><img src=\"https://colab.research.google.com/assets/colab-badge.svg\" alt=\"Open In Colab\"/></a>"
      ]
    },
    {
      "cell_type": "code",
      "metadata": {
        "id": "3JcEC8Erq9G4",
        "colab_type": "code",
        "colab": {}
      },
      "source": [
        "import torch\n",
        "import torch.nn as nn\n",
        "import torch.nn.functional as f\n",
        "import numpy as np\n",
        "from torch.optim import Optimizer\n",
        "from typing import Tuple,Callable,Iterable"
      ],
      "execution_count": 7,
      "outputs": []
    },
    {
      "cell_type": "code",
      "metadata": {
        "id": "F0XqtIIzrMO8",
        "colab_type": "code",
        "colab": {}
      },
      "source": [
        "#Referred the code huggingface to learn \n",
        "\n",
        "class Adamoptimizer(Optimizer):\n",
        "  def __init__(self,params:Iterable[torch.nn.parameter.Parameter],\n",
        "               lr:float=0.0001,\n",
        "               eps:float=1e-6,\n",
        "               beta:Tuple[float,float]=(0.99,0.999),\n",
        "               weight_decay:float=0.0):\n",
        "    # params : iterable of all parameters\n",
        "    defaults=dict(lr=lr,betas=beta,weight_decay=weight_decay,eps=eps)\n",
        "    super().__init__(params,defaults)\n",
        "\n",
        "  def step(self):\n",
        "    for group in self.param_groups:\n",
        "      for p in group['params']:\n",
        "        if p.grad is None:\n",
        "          continue\n",
        "        grad=p.grad.data\n",
        "\n",
        "        if len(state)==0:\n",
        "          state['step']=0\n",
        "          # exp moving avg of grad values\n",
        "          state['exp_avg']=torch.zeros_like(p.data)\n",
        "          # exp moving avg of grad square values\n",
        "          state['exp_sq_avg']=torch.zeros_like(p.data)\n",
        "\n",
        "        expavg,exp_avgsq=state['exp_avg'],state['exp_sq_avg']\n",
        "        beta1,beta2=group['betas']\n",
        "\n",
        "        state['step']+=1\n",
        "        expavg.mul_(beta1).add_(grad,alpha=1-beta1)\n",
        "        exp_avgsq.mul_(beta2).addcmul_(grad,grad,value=1-beta2)\n",
        "        denom=exp_avgsq.sqrt().add_(group['eps'])\n",
        "        stepsize=group['lr']\n",
        "        p.data.addcdiv_(expavg,axp_avgsq,value=-stepsize)  # gradient step\n",
        "\n",
        "        # Further code if we want to apply L2 regularization with  weightdecay as coefficient\n",
        "        if group['weight_decay']>0.0:\n",
        "          p.data.add_(p.data,alpha=-group['lr']*group['weight_decay'])\n",
        "\n",
        "    return loss\n"
      ],
      "execution_count": 58,
      "outputs": []
    },
    {
      "cell_type": "code",
      "metadata": {
        "id": "oOcSbFFq2tzI",
        "colab_type": "code",
        "colab": {}
      },
      "source": [
        "class model(nn.Module):\n",
        "  def __init__(self):\n",
        "    super().__init__()\n",
        "    self.fc1=nn.Linear(128,64)\n",
        "    self.fc2=nn.Linear(64,10)\n",
        "  \n",
        "  def forward(self,x):\n",
        "    out=self.fc2(self.fc1(x))\n",
        "    return out"
      ],
      "execution_count": 30,
      "outputs": []
    },
    {
      "cell_type": "code",
      "metadata": {
        "id": "kvl-c47u3CFL",
        "colab_type": "code",
        "colab": {}
      },
      "source": [
        "mod1=model()"
      ],
      "execution_count": 31,
      "outputs": []
    },
    {
      "cell_type": "code",
      "metadata": {
        "id": "TB2Fyc493Ea9",
        "colab_type": "code",
        "colab": {
          "base_uri": "https://localhost:8080/",
          "height": 34
        },
        "outputId": "0133f80e-407a-4f5d-89ba-8f5b4910aec4"
      },
      "source": [
        "mod1.parameters()  # returns a generator"
      ],
      "execution_count": 32,
      "outputs": [
        {
          "output_type": "execute_result",
          "data": {
            "text/plain": [
              "<generator object Module.parameters at 0x7f49aada04c0>"
            ]
          },
          "metadata": {
            "tags": []
          },
          "execution_count": 32
        }
      ]
    },
    {
      "cell_type": "code",
      "metadata": {
        "id": "YqDYEIiY3Gy5",
        "colab_type": "code",
        "colab": {}
      },
      "source": [
        "#Typing module contains modules for different dtypes that can be checked\n",
        "from typing import List,Tuple"
      ],
      "execution_count": 33,
      "outputs": []
    },
    {
      "cell_type": "code",
      "metadata": {
        "id": "LwERgnl07HFh",
        "colab_type": "code",
        "colab": {}
      },
      "source": [
        "def fun(a:float=1,b:str=\"abc\"):  # with this notation we can specify dtype aswell as default value\n",
        "  print(a+1,b)"
      ],
      "execution_count": 34,
      "outputs": []
    },
    {
      "cell_type": "code",
      "metadata": {
        "id": "MY03wcEw7T1m",
        "colab_type": "code",
        "colab": {
          "base_uri": "https://localhost:8080/",
          "height": 34
        },
        "outputId": "5c2c7e29-e78c-49ac-83df-a5ac81db7bfd"
      },
      "source": [
        "fun(12,'hbc')"
      ],
      "execution_count": 35,
      "outputs": [
        {
          "output_type": "stream",
          "text": [
            "13 hbc\n"
          ],
          "name": "stdout"
        }
      ]
    },
    {
      "cell_type": "code",
      "metadata": {
        "id": "evrQ_EJ_7WQn",
        "colab_type": "code",
        "colab": {}
      },
      "source": [
        "p1=list(mod1.parameters())"
      ],
      "execution_count": 36,
      "outputs": []
    },
    {
      "cell_type": "code",
      "metadata": {
        "id": "GIM0oiVD7mAK",
        "colab_type": "code",
        "colab": {}
      },
      "source": [
        "# If there is a iterator with some datatype for its elements we can use Iterable(dtypeofelement) in the argument dictionary\n"
      ],
      "execution_count": 37,
      "outputs": []
    },
    {
      "cell_type": "code",
      "metadata": {
        "id": "KRr1FOTF7pdM",
        "colab_type": "code",
        "colab": {}
      },
      "source": [
        "opt=Adamoptimizer(mod1.parameters())"
      ],
      "execution_count": 38,
      "outputs": []
    },
    {
      "cell_type": "code",
      "metadata": {
        "id": "2M_jYTeF-fAM",
        "colab_type": "code",
        "colab": {}
      },
      "source": [
        "a=opt.step()"
      ],
      "execution_count": 39,
      "outputs": []
    },
    {
      "cell_type": "code",
      "metadata": {
        "id": "4Dy7-F_Q_NsN",
        "colab_type": "code",
        "colab": {
          "base_uri": "https://localhost:8080/",
          "height": 34
        },
        "outputId": "d902c0fd-59fa-4a8f-ddfa-4f8c27de85d4"
      },
      "source": [
        "a[0].keys()  # one parameters with betas and lrs given as keys and list of params for which betas and lr is there"
      ],
      "execution_count": 52,
      "outputs": [
        {
          "output_type": "execute_result",
          "data": {
            "text/plain": [
              "dict_keys(['params', 'lr', 'betas', 'weight_decay'])"
            ]
          },
          "metadata": {
            "tags": []
          },
          "execution_count": 52
        }
      ]
    },
    {
      "cell_type": "code",
      "metadata": {
        "id": "bfiS-8cU_bFh",
        "colab_type": "code",
        "colab": {
          "base_uri": "https://localhost:8080/",
          "height": 136
        },
        "outputId": "8b532a1e-8fa3-46a4-a35a-92e15127e804"
      },
      "source": [
        "a[0]"
      ],
      "execution_count": 55,
      "outputs": [
        {
          "output_type": "execute_result",
          "data": {
            "text/plain": [
              "tensor([[-0.0761, -0.0311, -0.0433,  ..., -0.0599, -0.0363, -0.0077],\n",
              "        [ 0.0629,  0.0802, -0.0683,  ..., -0.0183, -0.0295,  0.0544],\n",
              "        [-0.0103,  0.0471, -0.0090,  ..., -0.0537,  0.0854, -0.0226],\n",
              "        ...,\n",
              "        [ 0.0717, -0.0086, -0.0862,  ...,  0.0047,  0.0386, -0.0067],\n",
              "        [-0.0641,  0.0213, -0.0549,  ...,  0.0323,  0.0577, -0.0193],\n",
              "        [ 0.0289,  0.0233, -0.0192,  ..., -0.0704,  0.0385,  0.0358]])"
            ]
          },
          "metadata": {
            "tags": []
          },
          "execution_count": 55
        }
      ]
    },
    {
      "cell_type": "code",
      "metadata": {
        "id": "Q8AuBA7sJMCY",
        "colab_type": "code",
        "colab": {}
      },
      "source": [
        "a=torch.randint(0,100,(3,4))"
      ],
      "execution_count": 56,
      "outputs": []
    },
    {
      "cell_type": "code",
      "metadata": {
        "id": "XvdhoA1VMV-d",
        "colab_type": "code",
        "colab": {
          "base_uri": "https://localhost:8080/",
          "height": 68
        },
        "outputId": "8b07dd5e-e02e-434f-cc76-f15c1dd8043e"
      },
      "source": [
        "a"
      ],
      "execution_count": 57,
      "outputs": [
        {
          "output_type": "execute_result",
          "data": {
            "text/plain": [
              "tensor([[92, 37, 25, 24],\n",
              "        [67, 31, 22, 85],\n",
              "        [39, 18, 99, 80]])"
            ]
          },
          "metadata": {
            "tags": []
          },
          "execution_count": 57
        }
      ]
    },
    {
      "cell_type": "code",
      "metadata": {
        "id": "zao6EFd3MzsA",
        "colab_type": "code",
        "colab": {}
      },
      "source": [
        "# add(other, *, alpha=1) → Tensor\n",
        "# Add a scalar or tensor to self tensor. If both alpha and other are specified, each element of other is scaled by alpha before being used.\n",
        "# When other is a tensor, the shape of other must be broadcastable with the shape of the underlying tensor\n"
      ],
      "execution_count": null,
      "outputs": []
    },
    {
      "cell_type": "code",
      "metadata": {
        "id": "MhnqDKGeMWpb",
        "colab_type": "code",
        "colab": {}
      },
      "source": [
        "# alpha is number that gets multiplied with scalar\n",
        "# addcmul > tensor1*tensor2*val + input tensor\n",
        "a.addcdiv_()"
      ],
      "execution_count": null,
      "outputs": []
    }
  ]
}