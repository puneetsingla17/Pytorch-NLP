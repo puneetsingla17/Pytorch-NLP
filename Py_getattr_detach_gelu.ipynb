{
  "nbformat": 4,
  "nbformat_minor": 0,
  "metadata": {
    "colab": {
      "name": "Py-getattr-detach-gelu.ipynb",
      "provenance": [],
      "collapsed_sections": []
    },
    "kernelspec": {
      "name": "python3",
      "display_name": "Python 3"
    }
  },
  "cells": [
    {
      "cell_type": "code",
      "metadata": {
        "id": "AUrSLoFX0DCn",
        "colab_type": "code",
        "colab": {}
      },
      "source": [
        "import torch\n",
        "import torch.nn as N\n",
        "import numpy  as np\n",
        "import matplotlib.pyplot as plt\n",
        "import math"
      ],
      "execution_count": 0,
      "outputs": []
    },
    {
      "cell_type": "code",
      "metadata": {
        "id": "ip6QXvro3DKh",
        "colab_type": "code",
        "colab": {}
      },
      "source": [
        "x1=np.random.rand(100,20)"
      ],
      "execution_count": 0,
      "outputs": []
    },
    {
      "cell_type": "code",
      "metadata": {
        "id": "RkRb20L02B-W",
        "colab_type": "code",
        "colab": {}
      },
      "source": [
        "bool1=x1<0.15"
      ],
      "execution_count": 0,
      "outputs": []
    },
    {
      "cell_type": "code",
      "metadata": {
        "id": "SFY1pl9i2Zyt",
        "colab_type": "code",
        "colab": {
          "base_uri": "https://localhost:8080/",
          "height": 34
        },
        "outputId": "ef5485e2-853d-4c87-ddde-0bd86aacd04d"
      },
      "source": [
        "bool1.sum()"
      ],
      "execution_count": 19,
      "outputs": [
        {
          "output_type": "execute_result",
          "data": {
            "text/plain": [
              "1115"
            ]
          },
          "metadata": {
            "tags": []
          },
          "execution_count": 19
        }
      ]
    },
    {
      "cell_type": "code",
      "metadata": {
        "id": "e8uiqsq72fCN",
        "colab_type": "code",
        "colab": {
          "base_uri": "https://localhost:8080/",
          "height": 693
        },
        "outputId": "a009b25b-29bf-472f-f220-94cdf77718e1"
      },
      "source": [
        "plt.hist(x1.astype(np.float32))"
      ],
      "execution_count": 22,
      "outputs": [
        {
          "output_type": "execute_result",
          "data": {
            "text/plain": [
              "([array([ 8., 10., 14., 10., 13.,  9.,  9., 14.,  9.,  4.]),\n",
              "  array([10., 11., 10., 12., 12.,  8., 10.,  9., 11.,  7.]),\n",
              "  array([11.,  9., 10., 10., 11., 18., 13.,  7.,  4.,  7.]),\n",
              "  array([11.,  7., 12., 11.,  3., 13., 14., 12., 10.,  7.]),\n",
              "  array([12.,  5.,  7., 13., 10., 15., 11.,  9., 11.,  7.]),\n",
              "  array([13., 11.,  9., 13.,  8.,  9., 10.,  6.,  7., 14.]),\n",
              "  array([14., 11.,  7.,  9.,  9., 14.,  8., 10.,  3., 15.]),\n",
              "  array([10.,  7., 15.,  8., 12.,  9.,  7.,  9., 15.,  8.]),\n",
              "  array([10., 13., 10.,  8., 15.,  7.,  9., 10., 11.,  7.]),\n",
              "  array([13., 11., 13., 12.,  9.,  5., 10.,  8.,  9., 10.]),\n",
              "  array([11., 13.,  7., 16.,  4., 10., 13., 10.,  9.,  7.]),\n",
              "  array([ 9., 14., 12.,  6., 10.,  8., 10., 11.,  9., 11.]),\n",
              "  array([11., 13., 10.,  7., 15.,  8.,  7., 11., 11.,  7.]),\n",
              "  array([15., 11.,  7.,  7.,  9.,  9., 10., 12., 12.,  8.]),\n",
              "  array([13.,  7., 13., 12.,  4., 10.,  7., 11., 12., 11.]),\n",
              "  array([13.,  9., 14.,  9., 13.,  9., 11.,  9.,  6.,  7.]),\n",
              "  array([17., 12.,  9.,  3.,  7.,  3., 12., 11., 12., 14.]),\n",
              "  array([11.,  8.,  9., 15., 12., 15.,  7.,  7.,  8.,  8.]),\n",
              "  array([13.,  7.,  8.,  7.,  7., 13.,  8., 11., 13., 13.]),\n",
              "  array([11.,  8.,  9., 11., 12., 10.,  7., 12., 14.,  6.])],\n",
              " array([9.69745859e-04, 1.00819714e-01, 2.00669676e-01, 3.00519645e-01,\n",
              "        4.00369614e-01, 5.00219584e-01, 6.00069523e-01, 6.99919522e-01,\n",
              "        7.99769461e-01, 8.99619460e-01, 9.99469399e-01], dtype=float32),\n",
              " <a list of 20 Lists of Patches objects>)"
            ]
          },
          "metadata": {
            "tags": []
          },
          "execution_count": 22
        },
        {
          "output_type": "display_data",
          "data": {
            "image/png": "[encoded data removed]",
            "text/plain": [
              "<Figure size 432x288 with 1 Axes>"
            ]
          },
          "metadata": {
            "tags": []
          }
        }
      ]
    },
    {
      "cell_type": "code",
      "metadata": {
        "id": "56Vl1CEs20TM",
        "colab_type": "code",
        "colab": {
          "base_uri": "https://localhost:8080/",
          "height": 187
        },
        "outputId": "8795451d-9041-4444-ea26-e4f5b8194960"
      },
      "source": [
        "bool1.astype(np.float32)"
      ],
      "execution_count": 11,
      "outputs": [
        {
          "output_type": "execute_result",
          "data": {
            "text/plain": [
              "array([[False, False, False,  True],\n",
              "       [False,  True, False,  True],\n",
              "       [ True, False, False,  True],\n",
              "       [ True, False, False,  True],\n",
              "       [ True, False, False,  True],\n",
              "       [False,  True, False, False],\n",
              "       [False, False, False,  True],\n",
              "       [False, False,  True,  True],\n",
              "       [False,  True,  True, False],\n",
              "       [ True,  True,  True,  True]])"
            ]
          },
          "metadata": {
            "tags": []
          },
          "execution_count": 11
        }
      ]
    },
    {
      "cell_type": "code",
      "metadata": {
        "id": "fSF1pw9a29sM",
        "colab_type": "code",
        "colab": {
          "base_uri": "https://localhost:8080/",
          "height": 34
        },
        "outputId": "c9938821-a396-4623-e8c3-cae6934c21ec"
      },
      "source": [
        "18/40*100"
      ],
      "execution_count": 16,
      "outputs": [
        {
          "output_type": "execute_result",
          "data": {
            "text/plain": [
              "45.0"
            ]
          },
          "metadata": {
            "tags": []
          },
          "execution_count": 16
        }
      ]
    },
    {
      "cell_type": "code",
      "metadata": {
        "id": "dktzmpc-3X6f",
        "colab_type": "code",
        "colab": {}
      },
      "source": [
        "# Python getattr() function is used to get the value of an object’s attribute and if no attribute of that object is found, default value is returned."
      ],
      "execution_count": 0,
      "outputs": []
    },
    {
      "cell_type": "code",
      "metadata": {
        "id": "o6wUtMfM6DD1",
        "colab_type": "code",
        "colab": {}
      },
      "source": [
        "class student:\n",
        "  studentid=\"abc\"\n",
        "  studentname='xyz'\n",
        "  studentcollege='iit'\n",
        "  def __init__(self):\n",
        "    self.studentid='ppp'\n",
        "    self.studentname='kjnfkj'"
      ],
      "execution_count": 0,
      "outputs": []
    },
    {
      "cell_type": "code",
      "metadata": {
        "id": "KHf98n156Vfz",
        "colab_type": "code",
        "colab": {}
      },
      "source": [
        "st=student()"
      ],
      "execution_count": 0,
      "outputs": []
    },
    {
      "cell_type": "code",
      "metadata": {
        "id": "pgzKeRcz6W9b",
        "colab_type": "code",
        "colab": {
          "base_uri": "https://localhost:8080/",
          "height": 34
        },
        "outputId": "1e6814c8-0217-4789-e858-0a1548b93b7d"
      },
      "source": [
        "getattr(st,'studentid')"
      ],
      "execution_count": 31,
      "outputs": [
        {
          "output_type": "execute_result",
          "data": {
            "text/plain": [
              "'ppp'"
            ]
          },
          "metadata": {
            "tags": []
          },
          "execution_count": 31
        }
      ]
    },
    {
      "cell_type": "code",
      "metadata": {
        "id": "1edMq74I6ZQp",
        "colab_type": "code",
        "colab": {
          "base_uri": "https://localhost:8080/",
          "height": 34
        },
        "outputId": "8dda87f5-84f2-4811-f7d6-e89c108f8b89"
      },
      "source": [
        "getattr(st,'studentcollege')"
      ],
      "execution_count": 32,
      "outputs": [
        {
          "output_type": "execute_result",
          "data": {
            "text/plain": [
              "'iit'"
            ]
          },
          "metadata": {
            "tags": []
          },
          "execution_count": 32
        }
      ]
    },
    {
      "cell_type": "code",
      "metadata": {
        "id": "Bo2rs7k-6w-C",
        "colab_type": "code",
        "colab": {}
      },
      "source": [
        "x=torch.ones(10,requires_grad=True)"
      ],
      "execution_count": 0,
      "outputs": []
    },
    {
      "cell_type": "code",
      "metadata": {
        "id": "-oXy-D5g-q7T",
        "colab_type": "code",
        "colab": {
          "base_uri": "https://localhost:8080/",
          "height": 34
        },
        "outputId": "9e1480fc-25a1-4b06-c845-777b923d2fc4"
      },
      "source": [
        "x"
      ],
      "execution_count": 34,
      "outputs": [
        {
          "output_type": "execute_result",
          "data": {
            "text/plain": [
              "tensor([1., 1., 1., 1., 1., 1., 1., 1., 1., 1.], requires_grad=True)"
            ]
          },
          "metadata": {
            "tags": []
          },
          "execution_count": 34
        }
      ]
    },
    {
      "cell_type": "code",
      "metadata": {
        "id": "yG65rCww-sER",
        "colab_type": "code",
        "colab": {}
      },
      "source": [
        "y=x**2\n",
        "z=x**3"
      ],
      "execution_count": 0,
      "outputs": []
    },
    {
      "cell_type": "code",
      "metadata": {
        "id": "CJfJ0XEm-v9x",
        "colab_type": "code",
        "colab": {
          "base_uri": "https://localhost:8080/",
          "height": 54
        },
        "outputId": "f314fe8b-44db-4f3c-83c1-b6f48f44cee2"
      },
      "source": [
        "y"
      ],
      "execution_count": 36,
      "outputs": [
        {
          "output_type": "execute_result",
          "data": {
            "text/plain": [
              "tensor([1., 1., 1., 1., 1., 1., 1., 1., 1., 1.], grad_fn=<PowBackward0>)"
            ]
          },
          "metadata": {
            "tags": []
          },
          "execution_count": 36
        }
      ]
    },
    {
      "cell_type": "code",
      "metadata": {
        "id": "H_KJBeU6-wdj",
        "colab_type": "code",
        "colab": {
          "base_uri": "https://localhost:8080/",
          "height": 34
        },
        "outputId": "1483677b-abca-4324-9f9a-c6556f4ecf35"
      },
      "source": [
        "x"
      ],
      "execution_count": 37,
      "outputs": [
        {
          "output_type": "execute_result",
          "data": {
            "text/plain": [
              "tensor([1., 1., 1., 1., 1., 1., 1., 1., 1., 1.], requires_grad=True)"
            ]
          },
          "metadata": {
            "tags": []
          },
          "execution_count": 37
        }
      ]
    },
    {
      "cell_type": "code",
      "metadata": {
        "id": "-xwa4BxU-wxP",
        "colab_type": "code",
        "colab": {}
      },
      "source": [
        "r=(y+z).sum()"
      ],
      "execution_count": 0,
      "outputs": []
    },
    {
      "cell_type": "code",
      "metadata": {
        "id": "5ZfDZFBh-2Pr",
        "colab_type": "code",
        "colab": {
          "base_uri": "https://localhost:8080/",
          "height": 34
        },
        "outputId": "e6eaa5b9-d208-4e5f-aef2-3b9b9571fb81"
      },
      "source": [
        "r"
      ],
      "execution_count": 39,
      "outputs": [
        {
          "output_type": "execute_result",
          "data": {
            "text/plain": [
              "tensor(20., grad_fn=<SumBackward0>)"
            ]
          },
          "metadata": {
            "tags": []
          },
          "execution_count": 39
        }
      ]
    },
    {
      "cell_type": "code",
      "metadata": {
        "id": "_-25EDkm-2uD",
        "colab_type": "code",
        "colab": {}
      },
      "source": [
        "r.backward()"
      ],
      "execution_count": 0,
      "outputs": []
    },
    {
      "cell_type": "code",
      "metadata": {
        "id": "FARFqgWi--iM",
        "colab_type": "code",
        "colab": {
          "base_uri": "https://localhost:8080/",
          "height": 34
        },
        "outputId": "e0c53873-8015-443c-ecca-d76988b8e555"
      },
      "source": [
        "x.grad"
      ],
      "execution_count": 41,
      "outputs": [
        {
          "output_type": "execute_result",
          "data": {
            "text/plain": [
              "tensor([5., 5., 5., 5., 5., 5., 5., 5., 5., 5.])"
            ]
          },
          "metadata": {
            "tags": []
          },
          "execution_count": 41
        }
      ]
    },
    {
      "cell_type": "code",
      "metadata": {
        "id": "WB8wvj9_-_wa",
        "colab_type": "code",
        "colab": {}
      },
      "source": [
        "#remember dr/dx =(dr/dy)*(dy/dx)+(dr/dz)*(dz/dx)  "
      ],
      "execution_count": 0,
      "outputs": []
    },
    {
      "cell_type": "code",
      "metadata": {
        "id": "6vsEuj83GHe5",
        "colab_type": "code",
        "colab": {}
      },
      "source": [
        "x=torch.ones(10,requires_grad=True)"
      ],
      "execution_count": 0,
      "outputs": []
    },
    {
      "cell_type": "code",
      "metadata": {
        "id": "5C3opdRjGJxG",
        "colab_type": "code",
        "colab": {}
      },
      "source": [
        "y=x**2"
      ],
      "execution_count": 0,
      "outputs": []
    },
    {
      "cell_type": "code",
      "metadata": {
        "id": "4WiOcEwyGKhg",
        "colab_type": "code",
        "colab": {}
      },
      "source": [
        "z=x**3"
      ],
      "execution_count": 0,
      "outputs": []
    },
    {
      "cell_type": "code",
      "metadata": {
        "id": "pGgdDfJpGTDi",
        "colab_type": "code",
        "colab": {
          "base_uri": "https://localhost:8080/",
          "height": 34
        },
        "outputId": "8e7336a1-8342-4f80-a263-0231bea93018"
      },
      "source": [
        "y.requires_grad"
      ],
      "execution_count": 46,
      "outputs": [
        {
          "output_type": "execute_result",
          "data": {
            "text/plain": [
              "True"
            ]
          },
          "metadata": {
            "tags": []
          },
          "execution_count": 46
        }
      ]
    },
    {
      "cell_type": "code",
      "metadata": {
        "id": "Pc5KfV-SGV5K",
        "colab_type": "code",
        "colab": {
          "base_uri": "https://localhost:8080/",
          "height": 34
        },
        "outputId": "ee9ca18e-bbea-4de0-b51b-912dee3e6393"
      },
      "source": [
        "y.detach_()"
      ],
      "execution_count": 50,
      "outputs": [
        {
          "output_type": "execute_result",
          "data": {
            "text/plain": [
              "tensor([1., 1., 1., 1., 1., 1., 1., 1., 1., 1.])"
            ]
          },
          "metadata": {
            "tags": []
          },
          "execution_count": 50
        }
      ]
    },
    {
      "cell_type": "code",
      "metadata": {
        "id": "AcQKOttwGbbb",
        "colab_type": "code",
        "colab": {
          "base_uri": "https://localhost:8080/",
          "height": 34
        },
        "outputId": "e07c2968-805b-4776-f1c5-aae148343127"
      },
      "source": [
        "y.requires_grad"
      ],
      "execution_count": 51,
      "outputs": [
        {
          "output_type": "execute_result",
          "data": {
            "text/plain": [
              "False"
            ]
          },
          "metadata": {
            "tags": []
          },
          "execution_count": 51
        }
      ]
    },
    {
      "cell_type": "code",
      "metadata": {
        "id": "bzDhj_IBGfSt",
        "colab_type": "code",
        "colab": {}
      },
      "source": [
        "r=(y+z).sum()"
      ],
      "execution_count": 0,
      "outputs": []
    },
    {
      "cell_type": "code",
      "metadata": {
        "id": "JNqvpCg2GmQJ",
        "colab_type": "code",
        "colab": {}
      },
      "source": [
        "r.backward()"
      ],
      "execution_count": 0,
      "outputs": []
    },
    {
      "cell_type": "code",
      "metadata": {
        "id": "UXH9td-bGtX6",
        "colab_type": "code",
        "colab": {
          "base_uri": "https://localhost:8080/",
          "height": 34
        },
        "outputId": "18ca367e-8975-4902-8a6b-3219a5217da7"
      },
      "source": [
        "r"
      ],
      "execution_count": 54,
      "outputs": [
        {
          "output_type": "execute_result",
          "data": {
            "text/plain": [
              "tensor(20., grad_fn=<SumBackward0>)"
            ]
          },
          "metadata": {
            "tags": []
          },
          "execution_count": 54
        }
      ]
    },
    {
      "cell_type": "code",
      "metadata": {
        "id": "X6UdebJvGuHZ",
        "colab_type": "code",
        "colab": {
          "base_uri": "https://localhost:8080/",
          "height": 34
        },
        "outputId": "b2ac0eae-6855-472e-e61e-528163a51c8a"
      },
      "source": [
        "x.grad"
      ],
      "execution_count": 55,
      "outputs": [
        {
          "output_type": "execute_result",
          "data": {
            "text/plain": [
              "tensor([3., 3., 3., 3., 3., 3., 3., 3., 3., 3.])"
            ]
          },
          "metadata": {
            "tags": []
          },
          "execution_count": 55
        }
      ]
    },
    {
      "cell_type": "code",
      "metadata": {
        "id": "vrU6DuxTGwJD",
        "colab_type": "code",
        "colab": {}
      },
      "source": [
        "y.grad"
      ],
      "execution_count": 0,
      "outputs": []
    },
    {
      "cell_type": "code",
      "metadata": {
        "id": "rLAibUv4Gy84",
        "colab_type": "code",
        "colab": {}
      },
      "source": [
        "z.grad"
      ],
      "execution_count": 0,
      "outputs": []
    },
    {
      "cell_type": "code",
      "metadata": {
        "id": "g2LscRx7G0Ep",
        "colab_type": "code",
        "colab": {
          "base_uri": "https://localhost:8080/",
          "height": 34
        },
        "outputId": "d0b56b0b-3b4a-4512-e562-007916ce44ac"
      },
      "source": [
        "z.requires_grad"
      ],
      "execution_count": 58,
      "outputs": [
        {
          "output_type": "execute_result",
          "data": {
            "text/plain": [
              "True"
            ]
          },
          "metadata": {
            "tags": []
          },
          "execution_count": 58
        }
      ]
    },
    {
      "cell_type": "code",
      "metadata": {
        "id": "QVc9_h6DG67R",
        "colab_type": "code",
        "colab": {}
      },
      "source": [
        "# detach for a tensor doesnt allow the gradient to \n",
        "# be computed for the variable "
      ],
      "execution_count": 0,
      "outputs": []
    },
    {
      "cell_type": "code",
      "metadata": {
        "id": "jVE81iVkG9PZ",
        "colab_type": "code",
        "colab": {}
      },
      "source": [
        "x=np.linspace(-5.0,5.0,500)"
      ],
      "execution_count": 0,
      "outputs": []
    },
    {
      "cell_type": "code",
      "metadata": {
        "id": "JamjuuYVKqSs",
        "colab_type": "code",
        "colab": {}
      },
      "source": [
        "t1=torch.from_numpy(0.5*x)*(1+torch.erf(torch.from_numpy(x/math.sqrt(2.0))))"
      ],
      "execution_count": 0,
      "outputs": []
    },
    {
      "cell_type": "code",
      "metadata": {
        "id": "s2md9mjhK3kD",
        "colab_type": "code",
        "colab": {
          "base_uri": "https://localhost:8080/",
          "height": 282
        },
        "outputId": "295b8c74-079c-4f24-feeb-bf51430941e2"
      },
      "source": [
        "plt.scatter(x,t1.numpy())"
      ],
      "execution_count": 74,
      "outputs": [
        {
          "output_type": "execute_result",
          "data": {
            "text/plain": [
              "<matplotlib.collections.PathCollection at 0x7f87cb2072b0>"
            ]
          },
          "metadata": {
            "tags": []
          },
          "execution_count": 74
        },
        {
          "output_type": "display_data",
          "data": {
            "image/png": "[encoded data removed]",
            "text/plain": [
              "<Figure size 432x288 with 1 Axes>"
            ]
          },
          "metadata": {
            "tags": []
          }
        }
      ]
    },
    {
      "cell_type": "code",
      "metadata": {
        "id": "4tAUzAn1K894",
        "colab_type": "code",
        "colab": {}
      },
      "source": [
        "lengths=torch.randint(4,10,size=(50,))"
      ],
      "execution_count": 0,
      "outputs": []
    },
    {
      "cell_type": "code",
      "metadata": {
        "id": "Q3ShloA6QvQc",
        "colab_type": "code",
        "colab": {
          "base_uri": "https://localhost:8080/",
          "height": 34
        },
        "outputId": "36d201e9-2fa5-4be6-bef0-dd362f1abd8c"
      },
      "source": [
        "lengths[:,None].shape"
      ],
      "execution_count": 79,
      "outputs": [
        {
          "output_type": "execute_result",
          "data": {
            "text/plain": [
              "torch.Size([50, 1])"
            ]
          },
          "metadata": {
            "tags": []
          },
          "execution_count": 79
        }
      ]
    },
    {
      "cell_type": "code",
      "metadata": {
        "id": "yltT9z1NQwLp",
        "colab_type": "code",
        "colab": {
          "base_uri": "https://localhost:8080/",
          "height": 34
        },
        "outputId": "eb0569c1-2365-4288-ad7d-95455ce0e355"
      },
      "source": [
        "lengths.shape"
      ],
      "execution_count": 80,
      "outputs": [
        {
          "output_type": "execute_result",
          "data": {
            "text/plain": [
              "torch.Size([50])"
            ]
          },
          "metadata": {
            "tags": []
          },
          "execution_count": 80
        }
      ]
    },
    {
      "cell_type": "code",
      "metadata": {
        "id": "gWWgDwQmQ5G0",
        "colab_type": "code",
        "colab": {}
      },
      "source": [
        "alen=torch.arange(10,dtype=torch.long)"
      ],
      "execution_count": 0,
      "outputs": []
    },
    {
      "cell_type": "code",
      "metadata": {
        "id": "7TurzwIRREgF",
        "colab_type": "code",
        "colab": {
          "base_uri": "https://localhost:8080/",
          "height": 34
        },
        "outputId": "6ac2d2f7-df10-4f2d-bb0f-260234d003a8"
      },
      "source": [
        "alen"
      ],
      "execution_count": 82,
      "outputs": [
        {
          "output_type": "execute_result",
          "data": {
            "text/plain": [
              "tensor([0, 1, 2, 3, 4, 5, 6, 7, 8, 9])"
            ]
          },
          "metadata": {
            "tags": []
          },
          "execution_count": 82
        }
      ]
    },
    {
      "cell_type": "code",
      "metadata": {
        "id": "UN6t-WQfRE80",
        "colab_type": "code",
        "colab": {
          "base_uri": "https://localhost:8080/",
          "height": 887
        },
        "outputId": "09173a24-adb6-494d-8d36-d69ddb655075"
      },
      "source": [
        "alen<lengths[:,None]"
      ],
      "execution_count": 83,
      "outputs": [
        {
          "output_type": "execute_result",
          "data": {
            "text/plain": [
              "tensor([[ True,  True,  True,  True,  True,  True,  True,  True,  True, False],\n",
              "        [ True,  True,  True,  True, False, False, False, False, False, False],\n",
              "        [ True,  True,  True,  True, False, False, False, False, False, False],\n",
              "        [ True,  True,  True,  True,  True,  True,  True, False, False, False],\n",
              "        [ True,  True,  True,  True,  True,  True, False, False, False, False],\n",
              "        [ True,  True,  True,  True,  True,  True,  True,  True, False, False],\n",
              "        [ True,  True,  True,  True,  True,  True,  True,  True,  True, False],\n",
              "        [ True,  True,  True,  True,  True,  True,  True,  True,  True, False],\n",
              "        [ True,  True,  True,  True,  True,  True,  True, False, False, False],\n",
              "        [ True,  True,  True,  True,  True,  True,  True, False, False, False],\n",
              "        [ True,  True,  True,  True, False, False, False, False, False, False],\n",
              "        [ True,  True,  True,  True,  True,  True,  True,  True, False, False],\n",
              "        [ True,  True,  True,  True,  True,  True,  True,  True,  True, False],\n",
              "        [ True,  True,  True,  True, False, False, False, False, False, False],\n",
              "        [ True,  True,  True,  True,  True,  True,  True,  True, False, False],\n",
              "        [ True,  True,  True,  True,  True,  True, False, False, False, False],\n",
              "        [ True,  True,  True,  True,  True,  True,  True,  True, False, False],\n",
              "        [ True,  True,  True,  True, False, False, False, False, False, False],\n",
              "        [ True,  True,  True,  True,  True, False, False, False, False, False],\n",
              "        [ True,  True,  True,  True,  True,  True,  True,  True,  True, False],\n",
              "        [ True,  True,  True,  True,  True,  True,  True, False, False, False],\n",
              "        [ True,  True,  True,  True,  True,  True,  True,  True,  True, False],\n",
              "        [ True,  True,  True,  True,  True,  True, False, False, False, False],\n",
              "        [ True,  True,  True,  True,  True, False, False, False, False, False],\n",
              "        [ True,  True,  True,  True,  True,  True,  True,  True,  True, False],\n",
              "        [ True,  True,  True,  True, False, False, False, False, False, False],\n",
              "        [ True,  True,  True,  True,  True,  True, False, False, False, False],\n",
              "        [ True,  True,  True,  True,  True,  True,  True, False, False, False],\n",
              "        [ True,  True,  True,  True,  True, False, False, False, False, False],\n",
              "        [ True,  True,  True,  True,  True,  True, False, False, False, False],\n",
              "        [ True,  True,  True,  True, False, False, False, False, False, False],\n",
              "        [ True,  True,  True,  True,  True,  True,  True,  True, False, False],\n",
              "        [ True,  True,  True,  True,  True,  True,  True,  True,  True, False],\n",
              "        [ True,  True,  True,  True,  True,  True,  True, False, False, False],\n",
              "        [ True,  True,  True,  True,  True,  True,  True, False, False, False],\n",
              "        [ True,  True,  True,  True,  True, False, False, False, False, False],\n",
              "        [ True,  True,  True,  True,  True,  True,  True,  True,  True, False],\n",
              "        [ True,  True,  True,  True,  True,  True, False, False, False, False],\n",
              "        [ True,  True,  True,  True,  True,  True, False, False, False, False],\n",
              "        [ True,  True,  True,  True,  True,  True,  True,  True,  True, False],\n",
              "        [ True,  True,  True,  True,  True,  True,  True, False, False, False],\n",
              "        [ True,  True,  True,  True,  True, False, False, False, False, False],\n",
              "        [ True,  True,  True,  True,  True,  True,  True,  True, False, False],\n",
              "        [ True,  True,  True,  True,  True,  True, False, False, False, False],\n",
              "        [ True,  True,  True,  True,  True,  True,  True, False, False, False],\n",
              "        [ True,  True,  True,  True,  True,  True,  True, False, False, False],\n",
              "        [ True,  True,  True,  True,  True, False, False, False, False, False],\n",
              "        [ True,  True,  True,  True,  True,  True,  True,  True,  True, False],\n",
              "        [ True,  True,  True,  True,  True, False, False, False, False, False],\n",
              "        [ True,  True,  True,  True, False, False, False, False, False, False]])"
            ]
          },
          "metadata": {
            "tags": []
          },
          "execution_count": 83
        }
      ]
    },
    {
      "cell_type": "code",
      "metadata": {
        "id": "hl1EYZB4RKuV",
        "colab_type": "code",
        "colab": {
          "base_uri": "https://localhost:8080/",
          "height": 88
        },
        "outputId": "62341b7a-2df9-40eb-992b-4fd6ee9d3442"
      },
      "source": [
        "lengths"
      ],
      "execution_count": 84,
      "outputs": [
        {
          "output_type": "execute_result",
          "data": {
            "text/plain": [
              "tensor([9, 4, 4, 7, 6, 8, 9, 9, 7, 7, 4, 8, 9, 4, 8, 6, 8, 4, 5, 9, 7, 9, 6, 5,\n",
              "        9, 4, 6, 7, 5, 6, 4, 8, 9, 7, 7, 5, 9, 6, 6, 9, 7, 5, 8, 6, 7, 7, 5, 9,\n",
              "        5, 4])"
            ]
          },
          "metadata": {
            "tags": []
          },
          "execution_count": 84
        }
      ]
    },
    {
      "cell_type": "code",
      "metadata": {
        "id": "lDqLPBm6RoaH",
        "colab_type": "code",
        "colab": {}
      },
      "source": [
        "a=torch.tensor([5,4])"
      ],
      "execution_count": 0,
      "outputs": []
    },
    {
      "cell_type": "code",
      "metadata": {
        "id": "ah9-rX6ER7gC",
        "colab_type": "code",
        "colab": {}
      },
      "source": [
        "b=torch.tensor([3,7])"
      ],
      "execution_count": 0,
      "outputs": []
    },
    {
      "cell_type": "code",
      "metadata": {
        "id": "WSigSz9oR-aQ",
        "colab_type": "code",
        "colab": {
          "base_uri": "https://localhost:8080/",
          "height": 34
        },
        "outputId": "2f477163-4f9c-46fa-cb45-8d94759cd7a1"
      },
      "source": [
        "a<b   # if shape is same then boolean operators are implemented elementwise"
      ],
      "execution_count": 87,
      "outputs": [
        {
          "output_type": "execute_result",
          "data": {
            "text/plain": [
              "tensor([False,  True])"
            ]
          },
          "metadata": {
            "tags": []
          },
          "execution_count": 87
        }
      ]
    },
    {
      "cell_type": "code",
      "metadata": {
        "id": "MC-LjnHyR_Cy",
        "colab_type": "code",
        "colab": {
          "base_uri": "https://localhost:8080/",
          "height": 51
        },
        "outputId": "96a8bb4c-ea1e-4868-80f5-4b7a5b3ad599"
      },
      "source": [
        "a<b[:,None]   #None value in here is adding a dimension of 1 to torch tensor"
      ],
      "execution_count": 88,
      "outputs": [
        {
          "output_type": "execute_result",
          "data": {
            "text/plain": [
              "tensor([[False, False],\n",
              "        [ True,  True]])"
            ]
          },
          "metadata": {
            "tags": []
          },
          "execution_count": 88
        }
      ]
    },
    {
      "cell_type": "code",
      "metadata": {
        "id": "j1F_V0rPSCMu",
        "colab_type": "code",
        "colab": {}
      },
      "source": [
        "a=torch.arange(10,dtype=torch.long)"
      ],
      "execution_count": 0,
      "outputs": []
    },
    {
      "cell_type": "code",
      "metadata": {
        "id": "TDZX6iVNS_4c",
        "colab_type": "code",
        "colab": {
          "base_uri": "https://localhost:8080/",
          "height": 34
        },
        "outputId": "b87b6024-642b-41b0-fe4a-d2403b17f5d3"
      },
      "source": [
        "a[None,None,:].shape  # 2 Nones are adding 1 dimension to torch tensor"
      ],
      "execution_count": 93,
      "outputs": [
        {
          "output_type": "execute_result",
          "data": {
            "text/plain": [
              "torch.Size([1, 1, 10])"
            ]
          },
          "metadata": {
            "tags": []
          },
          "execution_count": 93
        }
      ]
    },
    {
      "cell_type": "code",
      "metadata": {
        "id": "tucMifWGTC-R",
        "colab_type": "code",
        "colab": {
          "base_uri": "https://localhost:8080/",
          "height": 34
        },
        "outputId": "cd5d1e63-986e-4733-a16d-ddf6041b0016"
      },
      "source": [
        "a"
      ],
      "execution_count": 92,
      "outputs": [
        {
          "output_type": "execute_result",
          "data": {
            "text/plain": [
              "tensor([0, 1, 2, 3, 4, 5, 6, 7, 8, 9])"
            ]
          },
          "metadata": {
            "tags": []
          },
          "execution_count": 92
        }
      ]
    },
    {
      "cell_type": "code",
      "metadata": {
        "id": "HEN1yENNTEwI",
        "colab_type": "code",
        "colab": {
          "base_uri": "https://localhost:8080/",
          "height": 34
        },
        "outputId": "a0c27c36-a1a2-4d4d-d343-63bc65d0645b"
      },
      "source": [
        "a"
      ],
      "execution_count": 94,
      "outputs": [
        {
          "output_type": "execute_result",
          "data": {
            "text/plain": [
              "tensor([0, 1, 2, 3, 4, 5, 6, 7, 8, 9])"
            ]
          },
          "metadata": {
            "tags": []
          },
          "execution_count": 94
        }
      ]
    },
    {
      "cell_type": "code",
      "metadata": {
        "id": "M6Kuvk0ITdJM",
        "colab_type": "code",
        "colab": {}
      },
      "source": [
        "c=a.repeat(2,3,5)"
      ],
      "execution_count": 0,
      "outputs": []
    },
    {
      "cell_type": "code",
      "metadata": {
        "id": "2PCqpsaPTfc7",
        "colab_type": "code",
        "colab": {
          "base_uri": "https://localhost:8080/",
          "height": 34
        },
        "outputId": "c4c68632-281e-45e5-cc49-e46ad77743fd"
      },
      "source": [
        "c.shape"
      ],
      "execution_count": 99,
      "outputs": [
        {
          "output_type": "execute_result",
          "data": {
            "text/plain": [
              "torch.Size([2, 3, 50])"
            ]
          },
          "metadata": {
            "tags": []
          },
          "execution_count": 99
        }
      ]
    },
    {
      "cell_type": "code",
      "metadata": {
        "id": "7U-MLdQWTjzj",
        "colab_type": "code",
        "colab": {
          "base_uri": "https://localhost:8080/",
          "height": 34
        },
        "outputId": "faa0c409-a205-42bb-aeca-5ac1cbaa353a"
      },
      "source": [
        "a[None,None,:].shape"
      ],
      "execution_count": 102,
      "outputs": [
        {
          "output_type": "execute_result",
          "data": {
            "text/plain": [
              "torch.Size([1, 1, 10])"
            ]
          },
          "metadata": {
            "tags": []
          },
          "execution_count": 102
        }
      ]
    },
    {
      "cell_type": "code",
      "metadata": {
        "id": "_rMOyT_IUaCs",
        "colab_type": "code",
        "colab": {
          "base_uri": "https://localhost:8080/",
          "height": 34
        },
        "outputId": "99de5c9f-1702-47ce-ea43-265803f3fbda"
      },
      "source": [
        "a[None,:,None].shape"
      ],
      "execution_count": 103,
      "outputs": [
        {
          "output_type": "execute_result",
          "data": {
            "text/plain": [
              "torch.Size([1, 10, 1])"
            ]
          },
          "metadata": {
            "tags": []
          },
          "execution_count": 103
        }
      ]
    },
    {
      "cell_type": "code",
      "metadata": {
        "id": "n4etStaBUgtZ",
        "colab_type": "code",
        "colab": {}
      },
      "source": [
        ""
      ],
      "execution_count": 0,
      "outputs": []
    }
  ]
}